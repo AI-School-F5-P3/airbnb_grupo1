{
 "cells": [
  {
   "cell_type": "markdown",
   "metadata": {},
   "source": [
    "## Cargar bibliotecas"
   ]
  },
  {
   "cell_type": "code",
   "execution_count": 14,
   "metadata": {},
   "outputs": [],
   "source": [
    "import pandas as pd\n",
    "import matplotlib.pyplot as plt\n",
    "import seaborn as sns\n",
    "import scipy.stats as stats\n",
    "from scipy.stats import kstest"
   ]
  },
  {
   "cell_type": "markdown",
   "metadata": {},
   "source": [
    "## Cargar archivo de Londres"
   ]
  },
  {
   "cell_type": "code",
   "execution_count": 30,
   "metadata": {},
   "outputs": [
    {
     "name": "stdout",
     "output_type": "stream",
     "text": [
      "      id                                               name  host_id  \\\n",
      "0  11551         Arty and Bright London Apartment in Zone 2    43039   \n",
      "1  13913                Holiday London DB Room Let-on going    54730   \n",
      "2  90700                  Sunny Notting Hill flat & terrace   491286   \n",
      "3  15400                Bright Chelsea  Apartment. Chelsea!    60302   \n",
      "4  92399  MODERN SELF CONTAINED ARCHITECT FLATLET, ISLIN...   497366   \n",
      "\n",
      "       host_name  neighbourhood_group           neighbourhood  latitude  \\\n",
      "0        Adriano                  NaN                 Lambeth  51.46225   \n",
      "1          Alina                  NaN               Islington  51.56802   \n",
      "2           Chil                  NaN  Kensington and Chelsea  51.51074   \n",
      "3       Philippa                  NaN  Kensington and Chelsea  51.48796   \n",
      "4  Andrea & Mark                  NaN               Islington  51.55071   \n",
      "\n",
      "   longitude        room_type  price  minimum_nights  number_of_reviews  \\\n",
      "0   -0.11732  Entire home/apt     88               3                185   \n",
      "1   -0.11121     Private room     65               1                 19   \n",
      "2   -0.19853  Entire home/apt    105               2                339   \n",
      "3   -0.16898  Entire home/apt    100              30                 88   \n",
      "4   -0.08547     Private room     77               1                207   \n",
      "\n",
      "  last_review  reviews_per_month  calculated_host_listings_count  \\\n",
      "0  2019-09-15               1.58                               2   \n",
      "1  2019-10-07               0.17                               2   \n",
      "2  2019-07-30               3.33                               2   \n",
      "3  2019-09-23               0.73                               1   \n",
      "4  2019-10-21               2.04                               2   \n",
      "\n",
      "   availability_365  \n",
      "0               336  \n",
      "1               365  \n",
      "2               268  \n",
      "3               158  \n",
      "4               336  \n",
      "Número de filas en el dataset: 85068\n"
     ]
    }
   ],
   "source": [
    "# Cargar los datos\n",
    "df_london = pd.read_csv(r\"C:\\Users\\Administrator\\Documents\\ProyectoAirBnB\\airbnb_grupo1\\data\\london_airbnb.csv\")\n",
    "\n",
    "# Muestra las primeras filas\n",
    "print(df_london.head())\n",
    "\n",
    "num_filas = df_london.shape[0]\n",
    "print(\"Número de filas en el dataset:\", num_filas)\n",
    "\n"
   ]
  },
  {
   "cell_type": "markdown",
   "metadata": {},
   "source": [
    "## Información general del dataframe London"
   ]
  },
  {
   "cell_type": "code",
   "execution_count": 4,
   "metadata": {},
   "outputs": [
    {
     "name": "stdout",
     "output_type": "stream",
     "text": [
      "<class 'pandas.core.frame.DataFrame'>\n",
      "RangeIndex: 85068 entries, 0 to 85067\n",
      "Data columns (total 16 columns):\n",
      " #   Column                          Non-Null Count  Dtype  \n",
      "---  ------                          --------------  -----  \n",
      " 0   id                              85068 non-null  int64  \n",
      " 1   name                            85042 non-null  object \n",
      " 2   host_id                         85068 non-null  int64  \n",
      " 3   host_name                       85056 non-null  object \n",
      " 4   neighbourhood_group             0 non-null      float64\n",
      " 5   neighbourhood                   85068 non-null  object \n",
      " 6   latitude                        85068 non-null  float64\n",
      " 7   longitude                       85068 non-null  float64\n",
      " 8   room_type                       85068 non-null  object \n",
      " 9   price                           85068 non-null  int64  \n",
      " 10  minimum_nights                  85068 non-null  int64  \n",
      " 11  number_of_reviews               85068 non-null  int64  \n",
      " 12  last_review                     65062 non-null  object \n",
      " 13  reviews_per_month               65062 non-null  float64\n",
      " 14  calculated_host_listings_count  85068 non-null  int64  \n",
      " 15  availability_365                85068 non-null  int64  \n",
      "dtypes: float64(4), int64(7), object(5)\n",
      "memory usage: 10.4+ MB\n",
      "None\n"
     ]
    }
   ],
   "source": [
    "# Información general del dataframe\n",
    "print(df_london.info())"
   ]
  },
  {
   "cell_type": "markdown",
   "metadata": {},
   "source": [
    "## Elimino la columna \"neighbourhood_group\" ya que está vacía"
   ]
  },
  {
   "cell_type": "code",
   "execution_count": 5,
   "metadata": {},
   "outputs": [],
   "source": [
    "# Eliminar la columna 'neighbourhood_group'\n",
    "df_london2 = df_london.drop(columns=['neighbourhood_group'])"
   ]
  },
  {
   "cell_type": "markdown",
   "metadata": {},
   "source": [
    "## Vemos la cantidad de nulos"
   ]
  },
  {
   "cell_type": "code",
   "execution_count": 6,
   "metadata": {},
   "outputs": [
    {
     "name": "stdout",
     "output_type": "stream",
     "text": [
      "id                                    0\n",
      "name                                 26\n",
      "host_id                               0\n",
      "host_name                            12\n",
      "neighbourhood                         0\n",
      "latitude                              0\n",
      "longitude                             0\n",
      "room_type                             0\n",
      "price                                 0\n",
      "minimum_nights                        0\n",
      "number_of_reviews                     0\n",
      "last_review                       20006\n",
      "reviews_per_month                 20006\n",
      "calculated_host_listings_count        0\n",
      "availability_365                      0\n",
      "dtype: int64\n",
      "id                                 0.000000\n",
      "name                               0.030564\n",
      "host_id                            0.000000\n",
      "host_name                          0.014106\n",
      "neighbourhood                      0.000000\n",
      "latitude                           0.000000\n",
      "longitude                          0.000000\n",
      "room_type                          0.000000\n",
      "price                              0.000000\n",
      "minimum_nights                     0.000000\n",
      "number_of_reviews                  0.000000\n",
      "last_review                       23.517656\n",
      "reviews_per_month                 23.517656\n",
      "calculated_host_listings_count     0.000000\n",
      "availability_365                   0.000000\n",
      "dtype: float64\n"
     ]
    }
   ],
   "source": [
    "# Ver la cantidad de valores nulos en cada columna\n",
    "print(df_london2.isnull().sum())\n",
    "# Porcentaje de valores nulos en cada columna\n",
    "porcentaje_nulos = df_london2.isnull().mean() * 100\n",
    "print(porcentaje_nulos)\n",
    "\n"
   ]
  },
  {
   "cell_type": "markdown",
   "metadata": {},
   "source": [
    "## Cambiar los datos que tienen formato fecha a formato float en la columna reviews_per_month"
   ]
  },
  {
   "cell_type": "code",
   "execution_count": 7,
   "metadata": {},
   "outputs": [
    {
     "name": "stdout",
     "output_type": "stream",
     "text": [
      "             id                                               name    host_id  \\\n",
      "0         11551         Arty and Bright London Apartment in Zone 2      43039   \n",
      "1         13913                Holiday London DB Room Let-on going      54730   \n",
      "2         90700                  Sunny Notting Hill flat & terrace     491286   \n",
      "3         15400                Bright Chelsea  Apartment. Chelsea!      60302   \n",
      "4         92399  MODERN SELF CONTAINED ARCHITECT FLATLET, ISLIN...     497366   \n",
      "...         ...                                                ...        ...   \n",
      "85063  38398365                   Beautiful flat in Central London   24782379   \n",
      "85064  39869123    Elegant stylish modern house with amazing view!   21145791   \n",
      "85065  39869214                  Holland Road - Kensington Olympia  251922260   \n",
      "85066  39869249     Functional single room 18 min to London Bridge  255372486   \n",
      "85067  39869282  EXQUISITE APARTMENT, PEACEFUL ENVIRONMENT IN SOHO  210531062   \n",
      "\n",
      "           host_name           neighbourhood  latitude  longitude  \\\n",
      "0            Adriano                 Lambeth  51.46225   -0.11732   \n",
      "1              Alina               Islington  51.56802   -0.11121   \n",
      "2               Chil  Kensington and Chelsea  51.51074   -0.19853   \n",
      "3           Philippa  Kensington and Chelsea  51.48796   -0.16898   \n",
      "4      Andrea & Mark               Islington  51.55071   -0.08547   \n",
      "...              ...                     ...       ...        ...   \n",
      "85063        Shabnam                 Lambeth  51.48601   -0.12766   \n",
      "85064         Ingrid                  Merton  51.40628   -0.23244   \n",
      "85065      Christian  Hammersmith and Fulham  51.50244   -0.21547   \n",
      "85066         Nudrat                 Bromley  51.35742    0.10764   \n",
      "85067           Radi             Westminster  51.51090   -0.12480   \n",
      "\n",
      "             room_type  price  minimum_nights  number_of_reviews last_review  \\\n",
      "0      Entire home/apt     88               3                185  2019-09-15   \n",
      "1         Private room     65               1                 19  2019-10-07   \n",
      "2      Entire home/apt    105               2                339  2019-07-30   \n",
      "3      Entire home/apt    100              30                 88  2019-09-23   \n",
      "4         Private room     77               1                207  2019-10-21   \n",
      "...                ...    ...             ...                ...         ...   \n",
      "85063  Entire home/apt    117               3                  2  2019-11-04   \n",
      "85064     Private room     69               2                  0         NaN   \n",
      "85065  Entire home/apt     90               3                  0         NaN   \n",
      "85066     Private room     30               2                  0         NaN   \n",
      "85067  Entire home/apt    187               1                  0         NaN   \n",
      "\n",
      "       reviews_per_month  calculated_host_listings_count  availability_365  \n",
      "0                   1.58                               2               336  \n",
      "1                   0.17                               2               365  \n",
      "2                   3.33                               2               268  \n",
      "3                   0.73                               1               158  \n",
      "4                   2.04                               2               336  \n",
      "...                  ...                             ...               ...  \n",
      "85063               2.00                               1                59  \n",
      "85064                NaN                               2               113  \n",
      "85065                NaN                               4                63  \n",
      "85066                NaN                               4                 1  \n",
      "85067                NaN                               1               311  \n",
      "\n",
      "[85068 rows x 15 columns]\n"
     ]
    }
   ],
   "source": [
    "# Función para convertir solo strings a float\n",
    "def convert_strings_to_float(value):\n",
    "    if isinstance(value, str):  # Verificar si es un string\n",
    "        try:\n",
    "            # Intentar convertir el string a float\n",
    "            return float(value)  # Convertir directamente a float\n",
    "        except ValueError:\n",
    "            return value  # Si no se puede convertir, devolver el valor original\n",
    "    else:\n",
    "        return value  # Devolver valores que no son strings\n",
    "\n",
    "# Aplicar la función a la columna 'last_review'\n",
    "df_london2['reviews_per_month'] = df_london2['reviews_per_month'].apply(convert_strings_to_float)\n",
    "\n",
    "# Mostrar el DataFrame resultante\n",
    "print(df_london2)\n",
    "\n",
    "\n",
    "\n",
    "\n",
    "\n"
   ]
  },
  {
   "cell_type": "markdown",
   "metadata": {},
   "source": [
    "## Verificar si los datos están normalmente distribuidos en la columna last_review"
   ]
  },
  {
   "cell_type": "code",
   "execution_count": 8,
   "metadata": {},
   "outputs": [
    {
     "data": {
      "image/png": "[encoded data removed]",
      "text/plain": [
       "<Figure size 640x480 with 1 Axes>"
      ]
     },
     "metadata": {},
     "output_type": "display_data"
    }
   ],
   "source": [
    "\n",
    "sns.histplot(df_london2['last_review'], kde=True)\n",
    "plt.show()"
   ]
  },
  {
   "cell_type": "markdown",
   "metadata": {},
   "source": [
    "## Verificar si los datos están normalmente distribuidos en la columna reviews_per_month"
   ]
  },
  {
   "cell_type": "code",
   "execution_count": 9,
   "metadata": {},
   "outputs": [
    {
     "data": {
      "image/png": "[encoded data removed]",
      "text/plain": [
       "<Figure size 640x480 with 1 Axes>"
      ]
     },
     "metadata": {},
     "output_type": "display_data"
    }
   ],
   "source": [
    "sns.histplot(df_london2['reviews_per_month'], kde=True)\n",
    "plt.show()"
   ]
  },
  {
   "cell_type": "markdown",
   "metadata": {},
   "source": [
    "## Utilizo  Prueba de Kolmogorov-Smirnov para normalidad para ver si los datos tienen una distribución normal en la columna last_review\n",
    "Para poder hacer la imputación"
   ]
  },
  {
   "cell_type": "code",
   "execution_count": 15,
   "metadata": {},
   "outputs": [
    {
     "name": "stdout",
     "output_type": "stream",
     "text": [
      "Estadístico: 0.9999846300451877, p-valor: 0.0\n"
     ]
    }
   ],
   "source": [
    "# Convierte la columna 'last_review' a formato datetime si no lo está ya\n",
    "df_london2['last_review'] = pd.to_datetime(df_london2['last_review'], errors='coerce')\n",
    "\n",
    "# Convierte la fecha a días desde la primera fecha registrada en la columna\n",
    "df_london2['days_since_first_review'] = (df_london2['last_review'] - df_london2['last_review'].min()).dt.days\n",
    "\n",
    "\n",
    "# Prueba de Kolmogorov-Smirnov para normalidad\n",
    "stat, p = kstest(df_london2['days_since_first_review'].dropna(), 'norm')\n",
    "print(f\"Estadístico: {stat}, p-valor: {p}\")"
   ]
  },
  {
   "cell_type": "markdown",
   "metadata": {},
   "source": [
    "## Utilizo  Prueba de Kolmogorov-Smirnov para normalidad para ver si los datos tienen una distribución normal en la columna reviews_per_month\n",
    "Para poder hacer la imputación "
   ]
  },
  {
   "cell_type": "code",
   "execution_count": 20,
   "metadata": {},
   "outputs": [
    {
     "name": "stdout",
     "output_type": "stream",
     "text": [
      "Estadístico: 0.5075325850273443, p-valor: 0.0\n"
     ]
    }
   ],
   "source": [
    "# Prueba de Kolmogorov-Smirnov para normalidad\n",
    "stat, p = kstest(df_london2['reviews_per_month'].dropna(), 'norm')\n",
    "print(f\"Estadístico: {stat}, p-valor: {p}\")\n",
    "\n"
   ]
  },
  {
   "cell_type": "markdown",
   "metadata": {},
   "source": [
    "Dado que el resultado de Kolmogorov-Smirnov indica que los datos no están normalmente distribuidos y tengo un 23.517656 % de datos nulos en las columnas last_review y reviews_per_months, la imputación con la media probablemente no sea la opción ideal. La imputación con la mediana es una opción válida y adecuada para datos que no están normalmente distribuidos. La imputación con la moda para la fecha también es válida  para la columna las_review."
   ]
  },
  {
   "cell_type": "markdown",
   "metadata": {},
   "source": [
    "## Imputación de valores nulos de la columna last_review con la moda (el valor más frecuente)"
   ]
  },
  {
   "cell_type": "code",
   "execution_count": 19,
   "metadata": {},
   "outputs": [],
   "source": [
    "# Imputar valores nulos de 'last_review' con la moda (el valor más frecuente)\n",
    "moda_last_review = df_london2['last_review'].mode()[0]\n",
    "df_london2['last_review'] = df_london2['last_review'].fillna(moda_last_review)\n",
    "\n"
   ]
  },
  {
   "cell_type": "markdown",
   "metadata": {},
   "source": [
    "## Imputación de valores nulos de la columna  con la media reviews_per_month"
   ]
  },
  {
   "cell_type": "code",
   "execution_count": 21,
   "metadata": {},
   "outputs": [],
   "source": [
    "# Calcular la media de 'reviews_per_month'\n",
    "media_reviews_per_month = df_london2['reviews_per_month'].mean()\n",
    "\n",
    "# Imputar valores nulos en 'reviews_per_month' con la media\n",
    "df_london2['reviews_per_month'] = df_london2['reviews_per_month'].fillna(media_reviews_per_month)\n"
   ]
  },
  {
   "cell_type": "markdown",
   "metadata": {},
   "source": [
    "## Verificación de los valores nulos de todo el data frame"
   ]
  },
  {
   "cell_type": "code",
   "execution_count": 22,
   "metadata": {},
   "outputs": [
    {
     "name": "stdout",
     "output_type": "stream",
     "text": [
      "id                                    0\n",
      "name                                 26\n",
      "host_id                               0\n",
      "host_name                            12\n",
      "neighbourhood                         0\n",
      "latitude                              0\n",
      "longitude                             0\n",
      "room_type                             0\n",
      "price                                 0\n",
      "minimum_nights                        0\n",
      "number_of_reviews                     0\n",
      "last_review                           0\n",
      "reviews_per_month                     0\n",
      "calculated_host_listings_count        0\n",
      "availability_365                      0\n",
      "days_since_first_review           20006\n",
      "dtype: int64\n"
     ]
    }
   ],
   "source": [
    "# Verificar la cantidad de valores nulos en todo el DataFrame\n",
    "valores_nulos = df_london2.isnull().sum()\n",
    "\n",
    "# Mostrar la cantidad de valores nulos por columna\n",
    "print(valores_nulos)\n"
   ]
  },
  {
   "cell_type": "markdown",
   "metadata": {},
   "source": [
    "## Borramos la columna \"days_since_first_review\" que fue creada para ver si los datos en la columna last_review seguían una distribbución normal"
   ]
  },
  {
   "cell_type": "code",
   "execution_count": 23,
   "metadata": {},
   "outputs": [],
   "source": [
    "# Borrar la columna 'days_since_first_review'\n",
    "df_london2.drop(columns=['days_since_first_review'], inplace=True)"
   ]
  },
  {
   "cell_type": "markdown",
   "metadata": {},
   "source": [
    "## Borramos las filas que tienen valores nulos en las columnas \"host_name\" y \"Name\""
   ]
  },
  {
   "cell_type": "code",
   "execution_count": 24,
   "metadata": {},
   "outputs": [],
   "source": [
    "df_london2 = df_london2.dropna(subset=['host_name'])\n",
    "\n",
    "df_london2 = df_london2.dropna(subset=['name'])\n"
   ]
  },
  {
   "cell_type": "markdown",
   "metadata": {},
   "source": [
    "## Recuento del número de filas del dataset"
   ]
  },
  {
   "cell_type": "code",
   "execution_count": 25,
   "metadata": {},
   "outputs": [
    {
     "name": "stdout",
     "output_type": "stream",
     "text": [
      "Número de filas en el dataset: 85030\n"
     ]
    }
   ],
   "source": [
    "num_filas = df_london2.shape[0]\n",
    "print(\"Número de filas en el dataset:\", num_filas)\n"
   ]
  },
  {
   "cell_type": "markdown",
   "metadata": {},
   "source": [
    "## Guardar el dataset resultante"
   ]
  },
  {
   "cell_type": "code",
   "execution_count": 29,
   "metadata": {},
   "outputs": [],
   "source": [
    "df_london2.to_csv('datos_london2.csv', index=False)"
   ]
  }
 ],
 "metadata": {
  "kernelspec": {
   "display_name": "myenv",
   "language": "python",
   "name": "python3"
  },
  "language_info": {
   "codemirror_mode": {
    "name": "ipython",
    "version": 3
   },
   "file_extension": ".py",
   "mimetype": "text/x-python",
   "name": "python",
   "nbconvert_exporter": "python",
   "pygments_lexer": "ipython3",
   "version": "3.12.4"
  }
 },
 "nbformat": 4,
 "nbformat_minor": 2
}
