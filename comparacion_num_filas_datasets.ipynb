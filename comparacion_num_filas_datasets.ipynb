{
 "cells": [
  {
   "cell_type": "markdown",
   "metadata": {},
   "source": [
    "## Carga de librerías"
   ]
  },
  {
   "cell_type": "code",
   "execution_count": 1,
   "metadata": {},
   "outputs": [],
   "source": [
    "import pandas as pd"
   ]
  },
  {
   "cell_type": "markdown",
   "metadata": {},
   "source": [
    "## Cargar todos los 6 datasets"
   ]
  },
  {
   "cell_type": "code",
   "execution_count": 6,
   "metadata": {},
   "outputs": [
    {
     "name": "stdout",
     "output_type": "stream",
     "text": [
      "Número de filas en el dataset London: 85068\n",
      "Número de filas en el dataset Madrid: 19618\n",
      "Número de filas en el dataset Milan: 18322\n",
      "Número de filas en el dataset NY: 48895\n",
      "Número de filas en el dataset Sydney: 36662\n",
      "Número de filas en el dataset Tokyo: 11466\n"
     ]
    }
   ],
   "source": [
    "# Cargar los datos\n",
    "df_london = pd.read_csv(r\"C:\\Users\\Administrator\\Documents\\ProyectoAirBnB\\airbnb_grupo1\\data\\london_airbnb.csv\")\n",
    "df_madrid = pd.read_csv(r\"C:\\Users\\Administrator\\Documents\\ProyectoAirBnB\\airbnb_grupo1\\data\\madrid_airbnb.csv\")\n",
    "df_milan = pd.read_csv(r\"C:\\Users\\Administrator\\Documents\\ProyectoAirBnB\\airbnb_grupo1\\data\\milan_airbnb.csv\")\n",
    "df_ny = pd.read_csv(r\"C:\\Users\\Administrator\\Documents\\ProyectoAirBnB\\airbnb_grupo1\\data\\NY_airbnb.csv\")\n",
    "df_sydney = pd.read_csv(r\"C:\\Users\\Administrator\\Documents\\ProyectoAirBnB\\airbnb_grupo1\\data\\sydney_airbnb.csv\")\n",
    "df_tokyo = pd.read_csv(r\"C:\\Users\\Administrator\\Documents\\ProyectoAirBnB\\airbnb_grupo1\\data\\tokyo_airbnb.csv\")\n",
    "\n",
    "\n",
    "num_filas_london = df_london.shape[0]\n",
    "print(\"Número de filas en el dataset London:\", num_filas_london)\n",
    "\n",
    "num_filas_madrid = df_madrid.shape[0]\n",
    "print(\"Número de filas en el dataset Madrid:\", num_filas_madrid)\n",
    "\n",
    "num_filas_milan = df_milan.shape[0]\n",
    "print(\"Número de filas en el dataset Milan:\", num_filas_milan)\n",
    "\n",
    "num_filas_ny = df_ny.shape[0]\n",
    "print(\"Número de filas en el dataset NY:\", num_filas_ny)\n",
    "\n",
    "num_filas_sydney = df_sydney.shape[0]\n",
    "print(\"Número de filas en el dataset Sydney:\", num_filas_sydney)\n",
    "\n",
    "num_filas_tokyo = df_tokyo.shape[0]\n",
    "print(\"Número de filas en el dataset Tokyo:\", num_filas_tokyo)\n",
    "\n"
   ]
  }
 ],
 "metadata": {
  "kernelspec": {
   "display_name": "myenv",
   "language": "python",
   "name": "python3"
  },
  "language_info": {
   "codemirror_mode": {
    "name": "ipython",
    "version": 3
   },
   "file_extension": ".py",
   "mimetype": "text/x-python",
   "name": "python",
   "nbconvert_exporter": "python",
   "pygments_lexer": "ipython3",
   "version": "3.12.4"
  }
 },
 "nbformat": 4,
 "nbformat_minor": 2
}
