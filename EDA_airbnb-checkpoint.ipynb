{
 "cells": [
  {
   "cell_type": "code",
   "execution_count": 1,
   "metadata": {},
   "outputs": [],
   "source": [
    "import pandas as pd\n"
   ]
  },
  {
   "cell_type": "markdown",
   "metadata": {},
   "source": [
    "## Pasar todas las monedas a euros"
   ]
  },
  {
   "cell_type": "code",
   "execution_count": 2,
   "metadata": {},
   "outputs": [],
   "source": [
    "# Diccionario de tipos de cambio (aproximados)\n",
    "exchange_rates = {\n",
    "    'GBP': 1.16,  # Libras a euros\n",
    "    'USD': 0.94,  # Dólares a euros\n",
    "    'JPY': 0.0063, # Yenes a euros\n",
    "    'AUD': 0.59,  # Dólares australianos a euros\n",
    "    'EUR': 1      # Euros\n",
    "}"
   ]
  },
  {
   "cell_type": "code",
   "execution_count": 3,
   "metadata": {},
   "outputs": [],
   "source": [
    "# Lista de archivos CSV y sus monedas\n",
    "files = [\n",
    "    ('london_airbnb.csv', 'GBP'),\n",
    "    ('madrid_airbnb.csv', 'EUR'),\n",
    "    ('milan_airbnb.csv', 'EUR'),\n",
    "    ('NY_airbnb.csv', 'USD'),\n",
    "    ('sydney_airbnb.csv', 'AUD'),\n",
    "    ('tokyo_airbnb.csv', 'JPY')\n",
    "]"
   ]
  },
  {
   "cell_type": "code",
   "execution_count": 4,
   "metadata": {},
   "outputs": [],
   "source": [
    "# Lista para almacenar los DataFrames convertidos\n",
    "dfs = []\n",
    "\n",
    "for file, currency in files:\n",
    "    # Cargar el CSV desde la carpeta de raw\n",
    "    df = pd.read_csv(f'../data/raw/{file}')\n",
    "    \n",
    "    # Convertir precios a euros\n",
    "    conversion_rate = exchange_rates[currency]\n",
    "    df['price_eur'] = df['price'] * conversion_rate\n",
    "    \n",
    "    # Añadir el DataFrame convertido a la lista\n",
    "    dfs.append(df)"
   ]
  },
  {
   "cell_type": "markdown",
   "metadata": {},
   "source": [
    "## Unir todos los dataset en uno"
   ]
  },
  {
   "cell_type": "code",
   "execution_count": 5,
   "metadata": {},
   "outputs": [],
   "source": [
    "# Concatenar todos los DataFrames en uno solo\n",
    "combined_df = pd.concat(dfs, ignore_index=True)"
   ]
  },
  {
   "cell_type": "code",
   "execution_count": 6,
   "metadata": {},
   "outputs": [],
   "source": [
    "# Guardar el DataFrame combinado en la carpeta de processed\n",
    "combined_df.to_csv('../data/processed/combined_data_eur.csv', index=False)"
   ]
  },
  {
   "cell_type": "code",
   "execution_count": 9,
   "metadata": {},
   "outputs": [
    {
     "ename": "ModuleNotFoundError",
     "evalue": "No module named 'dataprep'",
     "output_type": "error",
     "traceback": [
      "\u001b[1;31m---------------------------------------------------------------------------\u001b[0m",
      "\u001b[1;31mModuleNotFoundError\u001b[0m                       Traceback (most recent call last)",
      "Cell \u001b[1;32mIn[9], line 1\u001b[0m\n\u001b[1;32m----> 1\u001b[0m \u001b[38;5;28;01mfrom\u001b[39;00m \u001b[38;5;21;01mdataprep\u001b[39;00m\u001b[38;5;21;01m.\u001b[39;00m\u001b[38;5;21;01meda\u001b[39;00m \u001b[38;5;28;01mimport\u001b[39;00m create_report\n",
      "\u001b[1;31mModuleNotFoundError\u001b[0m: No module named 'dataprep'"
     ]
    }
   ],
   "source": [
    "from dataprep.eda import create_report\n",
    "\n",
    "\n"
   ]
  }
 ],
 "metadata": {
  "kernelspec": {
   "display_name": "env",
   "language": "python",
   "name": "python3"
  },
  "language_info": {
   "codemirror_mode": {
    "name": "ipython",
    "version": 3
   },
   "file_extension": ".py",
   "mimetype": "text/x-python",
   "name": "python",
   "nbconvert_exporter": "python",
   "pygments_lexer": "ipython3",
   "version": "3.9.13"
  }
 },
 "nbformat": 4,
 "nbformat_minor": 2
}
